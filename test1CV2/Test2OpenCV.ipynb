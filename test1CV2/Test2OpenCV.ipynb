{
 "cells": [
  {
   "cell_type": "markdown",
   "metadata": {},
   "source": [
    "<!-- pip install opencv-python\n",
    "pip install numpy\n",
    "pip install opencv-python-headless # If you do not need GUI features -->\n",
    "Чтение и отображение изображений\n",
    "Чтобы прочитать и отобразить изображение с помощью OpenCV, вы можете использовать следующий код:\n",
    "источник:https://vc.ru/u/1389654-machine-learning/661520-osvoenie-opencv-s-pomoshchyu-python-polnoe-rukovodstvo-po-obrabotke-izobrazheniy-i-kompyuternomu-zreniyu"
   ]
  },
  {
   "cell_type": "code",
   "execution_count": 1,
   "metadata": {},
   "outputs": [],
   "source": [
    "import cv2\n",
    "\n",
    "# Read an image from a file\n",
    "image = cv2.imread('image.jpg')\n",
    "\n",
    "# Display the image in a window\n",
    "cv2.imshow('Image', image)\n",
    "\n",
    "# Wait for a key press and close the window\n",
    "cv2.waitKey(0)\n",
    "cv2.destroyAllWindows()"
   ]
  },
  {
   "cell_type": "markdown",
   "metadata": {},
   "source": [
    "Вот как изменить размер, повернуть и перевернуть изображение с помощью OpenCV:"
   ]
  },
  {
   "cell_type": "code",
   "execution_count": 2,
   "metadata": {},
   "outputs": [],
   "source": [
    "import cv2\n",
    "\n",
    "# Read an image from a file\n",
    "image = cv2.imread('image.jpg') \n",
    "\n",
    "# Resize the image\n",
    "resized_image = cv2.resize(image, (100, 100)) # Resize the image to 100x100 pixels\n",
    "\n",
    "# Rotate the image\n",
    "(rows, cols) = image.shape[:2] # Get the number of rows and columns in the original image\n",
    "center = (cols // 2, rows // 2) # Calculate the center point of the image\n",
    "rotation_matrix = cv2.getRotationMatrix2D(center, 45, 1) # Create a rotation matrix for a 45-degree rotation around the center point\n",
    "rotated_image = cv2.warpAffine(image, rotation_matrix, (cols, rows))  # Apply the rotation to the original image\n",
    "\n",
    "# Flip the image\n",
    "flipped_image = cv2.flip(image, 1) # 0 for vertical flip, 1 for horizontal flip, -1 for both\n",
    "\n",
    "# Display the images\n",
    "cv2.imshow('Original', image)\n",
    "cv2.imshow('Resized', resized_image)\n",
    "cv2.imshow('Rotated', rotated_image)\n",
    "cv2.imshow('Flipped', flipped_image)\n",
    "cv2.waitKey(0) # Wait for a key press\n",
    "cv2.destroyAllWindows() # Close all windows"
   ]
  },
  {
   "cell_type": "markdown",
   "metadata": {},
   "source": [
    "Преобразование цветовых пространств\n",
    "OpenCV позволяет конвертировать изображения между различными цветовыми пространствами, такими как RGB, HSV и оттенки серого:"
   ]
  },
  {
   "cell_type": "code",
   "execution_count": 3,
   "metadata": {},
   "outputs": [],
   "source": [
    "import cv2\n",
    "\n",
    "# Read an image from a file\n",
    "image = cv2.imread('image.jpg')\n",
    "\n",
    "# Convert the image to grayscale\n",
    "gray_image = cv2.cvtColor(image, cv2.COLOR_BGR2GRAY) \n",
    "\n",
    "# Convert the image to HSV\n",
    "hsv_image = cv2.cvtColor(image, cv2.COLOR_BGR2HSV) # Hue, Saturation, Value\n",
    "\n",
    "# Display the images\n",
    "cv2.imshow('Original', image)\n",
    "cv2.imshow('Grayscale', gray_image)\n",
    "cv2.imshow('HSV', hsv_image)\n",
    "cv2.waitKey(0)\n",
    "cv2.destroyAllWindows()"
   ]
  },
  {
   "cell_type": "markdown",
   "metadata": {},
   "source": [
    "Решения реальных проблем с помощью Python OpenCV\n",
    "Давайте рассмотрим пару примеров из реального мира, где Python OpenCV может быть полезен.\n",
    "\n",
    "3.1. Выделение границ\n",
    "Выделение границ - это метод, используемый для определения границ объектов на изображениях. Одним из популярных алгоритмов обнаружения границ является алгоритм Canny. Вот как применить осторожное выделение границ с помощью OpenCV:"
   ]
  },
  {
   "cell_type": "code",
   "execution_count": 7,
   "metadata": {},
   "outputs": [],
   "source": [
    "import cv2\n",
    "\n",
    "# Read an image from a file\n",
    "image = cv2.imread('0002-3228_0_0.jpg')\n",
    "\n",
    "# Convert the image to grayscale\n",
    "gray_image = cv2.cvtColor(image, cv2.COLOR_BGR2GRAY)\n",
    "\n",
    "# Apply Canny edge detection\n",
    "edges = cv2.Canny(gray_image, 100, 200) # 100 and 200 are the thresholds \n",
    "# The Canny edge detector uses two thresholds to detect a wide range of edges.\n",
    "# The first threshold is used to detect strong edges (strong gradient) while the second threshold is used to detect weak edges (weak gradient).\n",
    "# Any gradient value larger than the upper threshold is considered to be an edge.\n",
    "# Any value below the lower threshold is considered not to be an edge.\n",
    "\n",
    "# Display the images\n",
    "cv2.imshow('Original', image)\n",
    "cv2.imshow('Edges', edges)\n",
    "cv2.waitKey(0)\n",
    "cv2.destroyAllWindows()"
   ]
  },
  {
   "cell_type": "markdown",
   "metadata": {},
   "source": []
  }
 ],
 "metadata": {
  "kernelspec": {
   "display_name": ".venv",
   "language": "python",
   "name": "python3"
  },
  "language_info": {
   "codemirror_mode": {
    "name": "ipython",
    "version": 3
   },
   "file_extension": ".py",
   "mimetype": "text/x-python",
   "name": "python",
   "nbconvert_exporter": "python",
   "pygments_lexer": "ipython3",
   "version": "3.11.5"
  },
  "orig_nbformat": 4
 },
 "nbformat": 4,
 "nbformat_minor": 2
}
